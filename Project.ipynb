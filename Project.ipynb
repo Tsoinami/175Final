{
 "cells": [
  {
   "cell_type": "markdown",
   "metadata": {},
   "source": [
    "TO VIEW DEMO: Scroll all the way to the second set of import statements and run it from there, this next section is building and training the model."
   ]
  },
  {
   "cell_type": "code",
   "execution_count": 1,
   "metadata": {},
   "outputs": [
    {
     "name": "stderr",
     "output_type": "stream",
     "text": [
      "C:\\Users\\parke\\Anaconda2\\envs\\py35\\lib\\site-packages\\h5py\\__init__.py:36: FutureWarning: Conversion of the second argument of issubdtype from `float` to `np.floating` is deprecated. In future, it will be treated as `np.float64 == np.dtype(float).type`.\n",
      "  from ._conv import register_converters as _register_converters\n"
     ]
    }
   ],
   "source": [
    "import tensorflow as tf\n",
    "import numpy as np\n",
    "from scipy.misc import imread, imresize\n",
    "import os\n",
    "import math"
   ]
  },
  {
   "cell_type": "code",
   "execution_count": 2,
   "metadata": {},
   "outputs": [
    {
     "name": "stderr",
     "output_type": "stream",
     "text": [
      "C:\\Users\\parke\\Anaconda2\\envs\\py35\\lib\\site-packages\\ipykernel_launcher.py:4: DeprecationWarning: `imread` is deprecated!\n",
      "`imread` is deprecated in SciPy 1.0.0, and will be removed in 1.2.0.\n",
      "Use ``imageio.imread`` instead.\n",
      "  after removing the cwd from sys.path.\n",
      "C:\\Users\\parke\\Anaconda2\\envs\\py35\\lib\\site-packages\\ipykernel_launcher.py:5: DeprecationWarning: `imresize` is deprecated!\n",
      "`imresize` is deprecated in SciPy 1.0.0, and will be removed in 1.2.0.\n",
      "Use ``skimage.transform.resize`` instead.\n",
      "  \"\"\"\n"
     ]
    }
   ],
   "source": [
    "width, height = 170,170\n",
    "files = os.listdir('positive_hand')\n",
    "\n",
    "images = [imread('positive_hand/'+i) for i in files[:10000]]\n",
    "resized = [imresize(i, (width, height)) for i in images]\n",
    "images = np.array(resized)"
   ]
  },
  {
   "cell_type": "code",
   "execution_count": 3,
   "metadata": {},
   "outputs": [],
   "source": [
    "#save RAM\n",
    "\n",
    "del resized"
   ]
  },
  {
   "cell_type": "code",
   "execution_count": 4,
   "metadata": {},
   "outputs": [
    {
     "data": {
      "text/plain": [
       "(10000, 170, 170, 3)"
      ]
     },
     "execution_count": 4,
     "metadata": {},
     "output_type": "execute_result"
    }
   ],
   "source": [
    "np.shape(images)"
   ]
  },
  {
   "cell_type": "code",
   "execution_count": 5,
   "metadata": {},
   "outputs": [],
   "source": [
    "poslabels = np.ones(10000)"
   ]
  },
  {
   "cell_type": "code",
   "execution_count": 6,
   "metadata": {},
   "outputs": [
    {
     "name": "stderr",
     "output_type": "stream",
     "text": [
      "C:\\Users\\parke\\Anaconda2\\envs\\py35\\lib\\site-packages\\ipykernel_launcher.py:4: DeprecationWarning: `imread` is deprecated!\n",
      "`imread` is deprecated in SciPy 1.0.0, and will be removed in 1.2.0.\n",
      "Use ``imageio.imread`` instead.\n",
      "  after removing the cwd from sys.path.\n",
      "C:\\Users\\parke\\Anaconda2\\envs\\py35\\lib\\site-packages\\ipykernel_launcher.py:5: DeprecationWarning: `imresize` is deprecated!\n",
      "`imresize` is deprecated in SciPy 1.0.0, and will be removed in 1.2.0.\n",
      "Use ``skimage.transform.resize`` instead.\n",
      "  \"\"\"\n"
     ]
    }
   ],
   "source": [
    "\n",
    "files = os.listdir('new_neg_data')\n",
    "\n",
    "negimages = [imread('new_neg_data/'+i) for i in files[:10000]]\n",
    "negresized = [imresize(i, (width, height)) for i in negimages]\n",
    "negimages = np.array(negresized)"
   ]
  },
  {
   "cell_type": "code",
   "execution_count": 7,
   "metadata": {},
   "outputs": [],
   "source": [
    "\n",
    "del negresized"
   ]
  },
  {
   "cell_type": "code",
   "execution_count": 8,
   "metadata": {},
   "outputs": [
    {
     "data": {
      "text/plain": [
       "(10000, 170, 170, 3)"
      ]
     },
     "execution_count": 8,
     "metadata": {},
     "output_type": "execute_result"
    }
   ],
   "source": [
    "np.shape(negimages)"
   ]
  },
  {
   "cell_type": "code",
   "execution_count": 9,
   "metadata": {},
   "outputs": [],
   "source": [
    "neglabels = np.zeros(10000)"
   ]
  },
  {
   "cell_type": "code",
   "execution_count": 10,
   "metadata": {},
   "outputs": [
    {
     "data": {
      "text/plain": [
       "(20000, 170, 170, 3)"
      ]
     },
     "execution_count": 10,
     "metadata": {},
     "output_type": "execute_result"
    }
   ],
   "source": [
    "np.shape(np.append(images, negimages,axis = 0))"
   ]
  },
  {
   "cell_type": "code",
   "execution_count": 11,
   "metadata": {},
   "outputs": [],
   "source": [
    "xData = np.append(images, negimages,axis = 0)\n",
    "\n",
    "yData = np.append(poslabels,neglabels,axis = 0)"
   ]
  },
  {
   "cell_type": "code",
   "execution_count": 12,
   "metadata": {},
   "outputs": [],
   "source": [
    "p = np.random.permutation(20000)\n",
    "xData = xData[p]\n",
    "yData = yData[p]\n"
   ]
  },
  {
   "cell_type": "code",
   "execution_count": 13,
   "metadata": {},
   "outputs": [],
   "source": [
    "X_train = xData[:15000]\n",
    "X_val = xData[15000:]\n",
    "\n",
    "y_train = yData[:15000]\n",
    "y_val = yData[15000:]"
   ]
  },
  {
   "cell_type": "code",
   "execution_count": 14,
   "metadata": {},
   "outputs": [
    {
     "data": {
      "text/plain": [
       "(20000,)"
      ]
     },
     "execution_count": 14,
     "metadata": {},
     "output_type": "execute_result"
    }
   ],
   "source": [
    "np.shape(yData)"
   ]
  },
  {
   "cell_type": "code",
   "execution_count": 15,
   "metadata": {},
   "outputs": [
    {
     "data": {
      "text/plain": [
       "(15000,)"
      ]
     },
     "execution_count": 15,
     "metadata": {},
     "output_type": "execute_result"
    }
   ],
   "source": [
    "np.shape(y_train)"
   ]
  },
  {
   "cell_type": "code",
   "execution_count": 16,
   "metadata": {},
   "outputs": [],
   "source": [
    "# clear old variables\n",
    "tf.reset_default_graph()\n",
    "\n",
    "# setup input (e.g. the data that changes every batch)\n",
    "# The first dim is None, and gets sets automatically based on batch size fed in\n",
    "X = tf.placeholder(tf.float32, [None, 170, 170, 3])\n",
    "y = tf.placeholder(tf.int64, [None])\n",
    "is_training = tf.placeholder(tf.bool)"
   ]
  },
  {
   "cell_type": "code",
   "execution_count": 17,
   "metadata": {},
   "outputs": [],
   "source": [
    "def run_model(session, predict, loss_val, Xd, yd,\n",
    "              epochs=1, batch_size=64, print_every=100,\n",
    "              training=None, plot_losses=False):\n",
    "    # have tensorflow compute accuracy\n",
    "    correct_prediction = tf.equal(tf.argmax(predict,1), y)\n",
    "    accuracy = tf.reduce_mean(tf.cast(correct_prediction, tf.float32))\n",
    "    \n",
    "    # shuffle indicies\n",
    "    train_indicies = np.arange(Xd.shape[0])\n",
    "    np.random.shuffle(train_indicies)\n",
    "\n",
    "    training_now = training is not None\n",
    "    \n",
    "    # setting up variables we want to compute (and optimizing)\n",
    "    # if we have a training function, add that to things we compute\n",
    "    variables = [mean_loss,correct_prediction,accuracy]\n",
    "    if training_now:\n",
    "        variables[-1] = training\n",
    "    \n",
    "    # counter \n",
    "    iter_cnt = 0\n",
    "    for e in range(epochs):\n",
    "        # keep track of losses and accuracy\n",
    "        correct = 0\n",
    "        losses = []\n",
    "        # make sure we iterate over the dataset once\n",
    "        for i in range(int(math.ceil(Xd.shape[0]/batch_size))):\n",
    "            # generate indicies for the batch\n",
    "            start_idx = (i*batch_size)%Xd.shape[0]\n",
    "            idx = train_indicies[start_idx:start_idx+batch_size]\n",
    "            \n",
    "            # create a feed dictionary for this batch\n",
    "            feed_dict = {X: Xd[idx,:],\n",
    "                         y: yd[idx],\n",
    "                         is_training: training_now }\n",
    "            # get batch size\n",
    "            actual_batch_size = yd[idx].shape[0]\n",
    "            \n",
    "            # have tensorflow compute loss and correct predictions\n",
    "            # and (if given) perform a training step\n",
    "            loss, corr, _ = session.run(variables,feed_dict=feed_dict)\n",
    "            \n",
    "            # aggregate performance stats\n",
    "            losses.append(loss*actual_batch_size)\n",
    "            correct += np.sum(corr)\n",
    "            \n",
    "            # print every now and then\n",
    "            if training_now and (iter_cnt % print_every) == 0:\n",
    "                print(\"Iteration {0}: with minibatch training loss = {1:.3g} and accuracy of {2:.2g}\"\\\n",
    "                      .format(iter_cnt,loss,np.sum(corr)/actual_batch_size))\n",
    "            iter_cnt += 1\n",
    "        total_correct = correct/Xd.shape[0]\n",
    "        total_loss = np.sum(losses)/Xd.shape[0]\n",
    "        print(\"Epoch {2}, Overall loss = {0:.3g} and accuracy of {1:.3g}\"\\\n",
    "              .format(total_loss,total_correct,e+1))\n",
    "        if plot_losses:\n",
    "            plt.plot(losses)\n",
    "            plt.grid(True)\n",
    "            plt.title('Epoch {} Loss'.format(e+1))\n",
    "            plt.xlabel('minibatch number')\n",
    "            plt.ylabel('minibatch loss')\n",
    "            plt.show()\n",
    "    return total_loss,total_correct"
   ]
  },
  {
   "cell_type": "code",
   "execution_count": 18,
   "metadata": {},
   "outputs": [
    {
     "name": "stdout",
     "output_type": "stream",
     "text": [
      "(?, 10, 10, 512)\n",
      "WARNING:tensorflow:From C:\\Users\\parke\\Anaconda2\\envs\\py35\\lib\\site-packages\\tensorflow\\python\\ops\\losses\\losses_impl.py:731: softmax_cross_entropy_with_logits (from tensorflow.python.ops.nn_ops) is deprecated and will be removed in a future version.\n",
      "Instructions for updating:\n",
      "\n",
      "Future major versions of TensorFlow will allow gradients to flow\n",
      "into the labels input on backprop by default.\n",
      "\n",
      "See tf.nn.softmax_cross_entropy_with_logits_v2.\n",
      "\n"
     ]
    }
   ],
   "source": [
    "# clear old variables\n",
    "tf.reset_default_graph()\n",
    "\n",
    "# setup input (e.g. the data that changes every batch)\n",
    "# The first dim is None, and gets sets automatically based on batch size fed in\n",
    "X = tf.placeholder(tf.float32, [None, 170, 170, 3])\n",
    "y = tf.placeholder(tf.int64, [None])\n",
    "is_training = tf.placeholder(tf.bool)\n",
    "def my_model(X,y,is_training):\n",
    "    # define our weights (e.g. init_two_layer_convnet)\n",
    "    # setup variables\n",
    "    Wconv1 = tf.get_variable(\"Wconv1\", shape=[9, 9, 3, 64],initializer = tf.truncated_normal_initializer(stddev=5e-2))\n",
    "    bconv1 = tf.get_variable(\"bconv1\", shape=[64], initializer = tf.constant_initializer(0.0))\n",
    "    \n",
    "    Wconv2 = tf.get_variable(\"Wconv2\", shape=[6, 6, 64, 128],initializer = tf.truncated_normal_initializer(stddev=5e-2))\n",
    "    bconv2 = tf.get_variable(\"bconv2\", shape=[128], initializer = tf.constant_initializer(0.1))\n",
    "    \n",
    "    Wconv3 = tf.get_variable(\"Wconv3\", shape=[3, 3, 128, 256],initializer = tf.truncated_normal_initializer(stddev=5e-2))\n",
    "    bconv3 = tf.get_variable(\"bconv3\", shape=[256], initializer = tf.constant_initializer(0.1))\n",
    "    \n",
    "    Wconv4 = tf.get_variable(\"Wconv4\", shape=[3, 3, 256, 512],initializer = tf.truncated_normal_initializer(stddev=5e-2))\n",
    "    bconv4 = tf.get_variable(\"bconv4\", shape=[512], initializer = tf.constant_initializer(0.1))\n",
    "    \n",
    "\n",
    "    \n",
    "    W1 = tf.get_variable(\"W1\", shape=[51200, 128],initializer = tf.truncated_normal_initializer(stddev=4e-2))\n",
    "    b1 = tf.get_variable(\"b1\", shape=[128], initializer = tf.constant_initializer(0.1))\n",
    "    W2 = tf.get_variable(\"W2\", shape=[128, 64],initializer = tf.truncated_normal_initializer(stddev=4e-2))\n",
    "    b2 = tf.get_variable(\"b2\", shape=[64], initializer = tf.constant_initializer(0.1))\n",
    "    W3 = tf.get_variable(\"W3\", shape=[64, 2],initializer = tf.truncated_normal_initializer(stddev=5e-3))\n",
    "    b3 = tf.get_variable(\"b3\", shape=[2], initializer = tf.constant_initializer(0.0))\n",
    "    \n",
    "    # define our graph (e.g. two_layer_convnet)\n",
    "    a1 = tf.nn.conv2d(X, Wconv1, strides = [1 ,1 ,1, 1], padding='SAME') + bconv1\n",
    "    h1 = tf.nn.relu(a1)\n",
    "    pooled1 = tf.layers.max_pooling2d(inputs=h1, pool_size=[2,2], strides=2)\n",
    "    norm1 = tf.nn.lrn(pooled1, 4, bias=1.0, alpha=0.001 / 9.0, beta=0.75,\n",
    "                    name='norm1')\n",
    "  \n",
    "    a2 = tf.nn.conv2d(norm1, Wconv2, strides = [1 ,1 ,1, 1], padding='SAME') + bconv2\n",
    "    h2 = tf.nn.relu(a2)\n",
    "    pooled2 = tf.layers.max_pooling2d(inputs=h2, pool_size=[2,2], strides=2)\n",
    "    norm2 = tf.nn.lrn(pooled2, 4, bias=1.0, alpha=0.001 / 9.0, beta=0.75,\n",
    "                    name='norm2')\n",
    "   \n",
    "\n",
    "    \n",
    "    a3 = tf.nn.conv2d(norm2, Wconv3, strides = [1 ,1 ,1, 1], padding='SAME') + bconv3\n",
    "    h3 = tf.nn.relu(a3)\n",
    "    pooled3 = tf.layers.max_pooling2d(inputs=h3, pool_size=[2,2], strides=2)\n",
    "    norm3 = tf.nn.lrn(pooled3, 4, bias=1.0, alpha=0.001 / 9.0, beta=0.75,\n",
    "                    name='norm3')\n",
    "    \n",
    "    a4 = tf.nn.conv2d(norm3, Wconv4, strides = [1 ,1 ,1, 1], padding='SAME') + bconv4\n",
    "    h4 = tf.nn.relu(a4)\n",
    "    pooled4 = tf.layers.max_pooling2d(inputs=h4, pool_size=[2,2], strides=2)\n",
    "    norm4 = tf.nn.lrn(pooled4, 4, bias=1.0, alpha=0.001 / 9.0, beta=0.75,\n",
    "                    name='norm4')\n",
    "    print(np.shape(norm4))\n",
    "    h1_flat = tf.reshape(norm4,[-1,51200])\n",
    "    h2_dropped = tf.layers.dropout(h1_flat,0.5,training= is_training)\n",
    "    h2_in = tf.matmul(h2_dropped,W1) + b1\n",
    "    h2_inactd = tf.nn.relu(h2_in)\n",
    "    \n",
    "    h3_in = tf.matmul(h2_inactd,W2) + b2\n",
    "    h3_inactd = tf.nn.relu(h3_in)\n",
    "    \n",
    "    \n",
    "    y_out = tf.matmul(h3_inactd,W3) + b3\n",
    "    return y_out\n",
    "\n",
    "\n",
    "\n",
    "\n",
    "\n",
    "y_out = my_model(X,y,is_training)\n",
    "# define our loss\n",
    "total_loss = tf.losses.softmax_cross_entropy(tf.one_hot(y,2),logits=y_out)\n",
    "mean_loss = tf.reduce_mean(total_loss)\n",
    "\n",
    "# define our optimizer\n",
    "optimizer = tf.train.AdamOptimizer(0.0005) # select optimizer and set learning rate\n",
    "train_step = optimizer.minimize(mean_loss)\n",
    "\n",
    "\n",
    "\n",
    "\n",
    "# batch normalization in tensorflow requires this extra dependency\n",
    "extra_update_ops = tf.get_collection(tf.GraphKeys.UPDATE_OPS)\n",
    "with tf.control_dependencies(extra_update_ops):\n",
    "    train_step = optimizer.minimize(mean_loss)"
   ]
  },
  {
   "cell_type": "code",
   "execution_count": 19,
   "metadata": {},
   "outputs": [
    {
     "name": "stdout",
     "output_type": "stream",
     "text": [
      "Training\n",
      "Iteration 0: with minibatch training loss = 0.841 and accuracy of 0.46\n",
      "Epoch 1, Overall loss = 0.366 and accuracy of 0.839\n",
      "Epoch 2, Overall loss = 0.0354 and accuracy of 0.991\n",
      "Epoch 3, Overall loss = 0.0212 and accuracy of 0.995\n",
      "Validation\n"
     ]
    }
   ],
   "source": [
    "saver = tf.train.Saver()\n",
    "\n",
    "\n",
    "sess = tf.Session()\n",
    "init_op = tf.global_variables_initializer()\n",
    "sess.run(init_op)\n",
    "print('Training')\n",
    "run_model(sess,y_out,mean_loss,X_train,y_train,3,200,5000,train_step,False)\n",
    "print('Validation')\n"
   ]
  },
  {
   "cell_type": "code",
   "execution_count": 20,
   "metadata": {},
   "outputs": [
    {
     "name": "stdout",
     "output_type": "stream",
     "text": [
      "Epoch 1, Overall loss = 0.0188 and accuracy of 0.996\n"
     ]
    },
    {
     "data": {
      "text/plain": [
       "(0.01880048439949751, 0.9958)"
      ]
     },
     "execution_count": 20,
     "metadata": {},
     "output_type": "execute_result"
    }
   ],
   "source": [
    "run_model(sess,y_out,mean_loss,X_val,y_val,1,64)\n"
   ]
  },
  {
   "cell_type": "code",
   "execution_count": 25,
   "metadata": {},
   "outputs": [
    {
     "name": "stdout",
     "output_type": "stream",
     "text": [
      "Model saved in path: demo_model/model.ckpt\n"
     ]
    }
   ],
   "source": [
    "saver\n",
    "save_path = saver.save(sess, \"demo_model/model.ckpt\")\n",
    "print(\"Model saved in path: %s\" % save_path)"
   ]
  },
  {
   "cell_type": "markdown",
   "metadata": {},
   "source": [
    "DEMO BEGINS HERE\n",
    "\n",
    "IMPORTANT: please download the file at this link https://drive.google.com/file/d/1xGFbBMOEQ8T-MHDfA8QvdKL9JF8tp7tr/view?usp=sharing \n",
    "\n",
    "Place it in the \"demo_model\" folder."
   ]
  },
  {
   "cell_type": "code",
   "execution_count": 4,
   "metadata": {},
   "outputs": [],
   "source": [
    "import tensorflow as tf\n",
    "import numpy as np\n",
    "from scipy.misc import imread, imresize\n",
    "import os\n",
    "import math\n",
    "import cv2\n",
    "import matplotlib.pyplot as plt"
   ]
  },
  {
   "cell_type": "code",
   "execution_count": 5,
   "metadata": {},
   "outputs": [
    {
     "name": "stdout",
     "output_type": "stream",
     "text": [
      "(?, 10, 10, 512)\n"
     ]
    }
   ],
   "source": [
    "tf.reset_default_graph()\n",
    "\n",
    "\n",
    "X = tf.placeholder(tf.float32, [None, 170, 170, 3])\n",
    "y = tf.placeholder(tf.int64, [None])\n",
    "is_training = tf.placeholder(tf.bool)\n",
    "def my_model(X,y,is_training):\n",
    "    # define our weights (e.g. init_two_layer_convnet)\n",
    "    # setup variables\n",
    "    Wconv1 = tf.get_variable(\"Wconv1\", shape=[9, 9, 3, 64],initializer = tf.truncated_normal_initializer(stddev=5e-2))\n",
    "    bconv1 = tf.get_variable(\"bconv1\", shape=[64], initializer = tf.constant_initializer(0.0))\n",
    "    \n",
    "    Wconv2 = tf.get_variable(\"Wconv2\", shape=[6, 6, 64, 128],initializer = tf.truncated_normal_initializer(stddev=5e-2))\n",
    "    bconv2 = tf.get_variable(\"bconv2\", shape=[128], initializer = tf.constant_initializer(0.1))\n",
    "    \n",
    "    Wconv3 = tf.get_variable(\"Wconv3\", shape=[3, 3, 128, 256],initializer = tf.truncated_normal_initializer(stddev=5e-2))\n",
    "    bconv3 = tf.get_variable(\"bconv3\", shape=[256], initializer = tf.constant_initializer(0.1))\n",
    "    \n",
    "    Wconv4 = tf.get_variable(\"Wconv4\", shape=[3, 3, 256, 512],initializer = tf.truncated_normal_initializer(stddev=5e-2))\n",
    "    bconv4 = tf.get_variable(\"bconv4\", shape=[512], initializer = tf.constant_initializer(0.1))\n",
    "    \n",
    "\n",
    "    \n",
    "    W1 = tf.get_variable(\"W1\", shape=[51200, 128],initializer = tf.truncated_normal_initializer(stddev=4e-2))\n",
    "    b1 = tf.get_variable(\"b1\", shape=[128], initializer = tf.constant_initializer(0.1))\n",
    "    W2 = tf.get_variable(\"W2\", shape=[128, 64],initializer = tf.truncated_normal_initializer(stddev=4e-2))\n",
    "    b2 = tf.get_variable(\"b2\", shape=[64], initializer = tf.constant_initializer(0.1))\n",
    "    W3 = tf.get_variable(\"W3\", shape=[64, 2],initializer = tf.truncated_normal_initializer(stddev=5e-3))\n",
    "    b3 = tf.get_variable(\"b3\", shape=[2], initializer = tf.constant_initializer(0.0))\n",
    "    \n",
    "    # define our graph (e.g. two_layer_convnet)\n",
    "    a1 = tf.nn.conv2d(X, Wconv1, strides = [1 ,1 ,1, 1], padding='SAME') + bconv1\n",
    "    h1 = tf.nn.relu(a1)\n",
    "    pooled1 = tf.layers.max_pooling2d(inputs=h1, pool_size=[2,2], strides=2)\n",
    "    norm1 = tf.nn.lrn(pooled1, 4, bias=1.0, alpha=0.001 / 9.0, beta=0.75,\n",
    "                    name='norm1')\n",
    "  \n",
    "    a2 = tf.nn.conv2d(norm1, Wconv2, strides = [1 ,1 ,1, 1], padding='SAME') + bconv2\n",
    "    h2 = tf.nn.relu(a2)\n",
    "    pooled2 = tf.layers.max_pooling2d(inputs=h2, pool_size=[2,2], strides=2)\n",
    "    norm2 = tf.nn.lrn(pooled2, 4, bias=1.0, alpha=0.001 / 9.0, beta=0.75,\n",
    "                    name='norm2')\n",
    "   \n",
    "\n",
    "    \n",
    "    a3 = tf.nn.conv2d(norm2, Wconv3, strides = [1 ,1 ,1, 1], padding='SAME') + bconv3\n",
    "    h3 = tf.nn.relu(a3)\n",
    "    pooled3 = tf.layers.max_pooling2d(inputs=h3, pool_size=[2,2], strides=2)\n",
    "    norm3 = tf.nn.lrn(pooled3, 4, bias=1.0, alpha=0.001 / 9.0, beta=0.75,\n",
    "                    name='norm3')\n",
    "    \n",
    "    a4 = tf.nn.conv2d(norm3, Wconv4, strides = [1 ,1 ,1, 1], padding='SAME') + bconv4\n",
    "    h4 = tf.nn.relu(a4)\n",
    "    pooled4 = tf.layers.max_pooling2d(inputs=h4, pool_size=[2,2], strides=2)\n",
    "    norm4 = tf.nn.lrn(pooled4, 4, bias=1.0, alpha=0.001 / 9.0, beta=0.75,\n",
    "                    name='norm4')\n",
    "    print(np.shape(norm4))\n",
    "    h1_flat = tf.reshape(norm4,[-1,51200])\n",
    "    h2_dropped = tf.layers.dropout(h1_flat,0.5,training= is_training)\n",
    "    h2_in = tf.matmul(h2_dropped,W1) + b1\n",
    "    h2_inactd = tf.nn.relu(h2_in)\n",
    "    \n",
    "    h3_in = tf.matmul(h2_inactd,W2) + b2\n",
    "    h3_inactd = tf.nn.relu(h3_in)\n",
    "    \n",
    "    \n",
    "    y_out = tf.matmul(h3_inactd,W3) + b3\n",
    "    return y_out\n",
    "\n",
    "\n",
    "\n",
    "\n",
    "\n",
    "y_out = my_model(X,y,is_training)\n",
    "# define our loss\n",
    "total_loss = tf.losses.softmax_cross_entropy(tf.one_hot(y,2),logits=y_out)\n",
    "mean_loss = tf.reduce_mean(total_loss)\n",
    "\n",
    "# define our optimizer\n",
    "optimizer = tf.train.AdamOptimizer(0.0005) # select optimizer and set learning rate\n",
    "train_step = optimizer.minimize(mean_loss)\n",
    "\n",
    "\n",
    "\n",
    "\n",
    "# batch normalization in tensorflow requires this extra dependency\n",
    "extra_update_ops = tf.get_collection(tf.GraphKeys.UPDATE_OPS)\n",
    "with tf.control_dependencies(extra_update_ops):\n",
    "    train_step = optimizer.minimize(mean_loss)\n",
    "\n",
    "saver = tf.train.Saver()\n",
    "\n",
    "sess = tf.Session()\n",
    "\n",
    "sess.run(tf.global_variables_initializer())"
   ]
  },
  {
   "cell_type": "code",
   "execution_count": 6,
   "metadata": {},
   "outputs": [
    {
     "name": "stdout",
     "output_type": "stream",
     "text": [
      "INFO:tensorflow:Restoring parameters from demo_model/model.ckpt\n",
      "Model restored.\n"
     ]
    }
   ],
   "source": [
    "\n",
    "saver.restore(sess = sess, save_path = \"demo_model/model.ckpt\")\n",
    "print(\"Model restored.\")"
   ]
  },
  {
   "cell_type": "code",
   "execution_count": 7,
   "metadata": {},
   "outputs": [
    {
     "data": {
      "image/png": "[encoded data removed]",
      "text/plain": [
       "<Figure size 432x288 with 1 Axes>"
      ]
     },
     "metadata": {},
     "output_type": "display_data"
    }
   ],
   "source": [
    "# Please define the name of the image you want to detect hand here\n",
    "# If the file is located inside another folder, Please specify the\n",
    "# path to the file as well,\n",
    "# ex: if the file is name a.jpg and is within folder file, please\n",
    "#     specify the name_of_file = 'file/a.jpg'\n",
    "name_of_file = 'demo_images/000_1751.jpg'\n",
    " \n",
    " \n",
    "# look for the name of the file\n",
    "toPredict = cv2.imread(name_of_file)\n",
    " \n",
    "# show the image\n",
    "plt.figure()\n",
    "# openCV uses a different color scheme, change it back to RGB for plotting\n",
    "RGB_img = cv2.cvtColor(toPredict, cv2.COLOR_BGR2RGB)\n",
    " \n",
    "# Using the sliding window approach to predict the location of hands\n",
    "# sliding window with same stride of 170 (same as creating a grid!)\n",
    "dimension = toPredict.shape\n",
    "endCol = dimension[1]-170 # the last column\n",
    "endRow = dimension[0]-170 # the last row\n",
    " \n",
    "locations = []\n",
    " \n",
    "model_input = [] \n",
    " \n",
    "for row in range(0,endRow-170,85):\n",
    "    for col in range(0,endCol-170,85):\n",
    "        crop_img = toPredict[ row :row+170  , col : col+170] \n",
    "\n",
    "        model_input.append(crop_img)\n",
    "\n",
    "        locations.append((row,col))\n",
    "\n",
    "\n",
    "    \n",
    "scores = y_out.eval(feed_dict = {X:np.array(model_input),y:np.array([0 for n in range(np.shape(model_input)[0])]),is_training:False},session = sess)\n",
    "    \n",
    "try:    \n",
    "    top_2_indexes = sorted(range(len(scores)), key=lambda i: scores[i][1])[:2]   \n",
    "except:\n",
    "    print('not enough hands were recognized')\n",
    "    \n",
    "for i in top_2_indexes:\n",
    "    cv2.rectangle(RGB_img, (locations[i][1], locations[i][0]), (locations[i][1]+170, locations[i][0]+170), (0,255,0),  thickness=5)\n",
    "\n",
    "    \n",
    "    \n",
    "\n",
    "     \n",
    "plt.imshow(RGB_img)\n",
    "plt.show()\n"
   ]
  },
  {
   "cell_type": "code",
   "execution_count": null,
   "metadata": {},
   "outputs": [],
   "source": []
  }
 ],
 "metadata": {
  "kernelspec": {
   "display_name": "Python 3",
   "language": "python",
   "name": "python3"
  },
  "language_info": {
   "codemirror_mode": {
    "name": "ipython",
    "version": 3
   },
   "file_extension": ".py",
   "mimetype": "text/x-python",
   "name": "python",
   "nbconvert_exporter": "python",
   "pygments_lexer": "ipython3",
   "version": "3.5.4"
  }
 },
 "nbformat": 4,
 "nbformat_minor": 2
}
