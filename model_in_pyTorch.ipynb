{
  "nbformat": 4,
  "nbformat_minor": 0,
  "metadata": {
    "colab": {
      "name": "project.ipynb",
      "version": "0.3.2",
      "views": {},
      "default_view": {},
      "provenance": [],
      "collapsed_sections": []
    },
    "kernelspec": {
      "name": "python3",
      "display_name": "Python 3"
    },
    "accelerator": "GPU"
  },
  "cells": [
    {
      "metadata": {
        "id": "MVVAESCsAeXd",
        "colab_type": "code",
        "colab": {
          "autoexec": {
            "startup": false,
            "wait_interval": 0
          }
        }
      },
      "cell_type": "code",
      "source": [
        "# http://pytorch.org/\n",
        "from os import path\n",
        "from wheel.pep425tags import get_abbr_impl, get_impl_ver, get_abi_tag\n",
        "platform = '{}{}-{}'.format(get_abbr_impl(), get_impl_ver(), get_abi_tag())\n",
        "\n",
        "accelerator = 'cu80' if path.exists('/opt/bin/nvidia-smi') else 'cpu'\n",
        "\n",
        "!pip install -q http://download.pytorch.org/whl/{accelerator}/torch-0.3.0.post4-{platform}-linux_x86_64.whl torchvision\n",
        "import torch"
      ],
      "execution_count": 0,
      "outputs": []
    },
    {
      "metadata": {
        "id": "QgiqiPkwAWAg",
        "colab_type": "code",
        "colab": {
          "autoexec": {
            "startup": false,
            "wait_interval": 0
          }
        }
      },
      "cell_type": "code",
      "source": [
        "import copy\n",
        "import torch\n",
        "import torch.nn as nn\n",
        "import torch.optim as optim\n",
        "from torch.autograd import Variable\n",
        "from torch.utils.data import DataLoader\n",
        "from torch.utils.data import sampler\n",
        "import cv2, random\n",
        "import matplotlib.pyplot as plt\n",
        "\n",
        "import torchvision.datasets as dset\n",
        "import torchvision.transforms as T\n",
        "\n",
        "import numpy as np\n",
        "\n",
        "import timeit\n",
        "\n",
        "\n",
        "\n"
      ],
      "execution_count": 0,
      "outputs": []
    },
    {
      "metadata": {
        "id": "KWHu3yPgU4M9",
        "colab_type": "code",
        "colab": {
          "autoexec": {
            "startup": false,
            "wait_interval": 0
          }
        }
      },
      "cell_type": "code",
      "source": [
        "\n",
        "# !pip install Pillow==4.0.0\n",
        "# !pip install PIL\n",
        "# !pip install image\n",
        "# import PIL.image"
      ],
      "execution_count": 0,
      "outputs": []
    },
    {
      "metadata": {
        "id": "lFRkOFfhAs2p",
        "colab_type": "code",
        "colab": {
          "autoexec": {
            "startup": false,
            "wait_interval": 0
          },
          "base_uri": "https://localhost:8080/",
          "height": 34
        },
        "outputId": "add613e7-3b33-4283-84d8-7f8f41f4e40a",
        "executionInfo": {
          "status": "ok",
          "timestamp": 1528577334443,
          "user_tz": 420,
          "elapsed": 261,
          "user": {
            "displayName": "Anh Quoc Dinh",
            "photoUrl": "https://lh3.googleusercontent.com/a/default-user=s128",
            "userId": "117379636649104079467"
          }
        }
      },
      "cell_type": "code",
      "source": [
        "# Verify that CUDA is properly configured and you have a GPU available\n",
        "\n",
        "torch.cuda.is_available()"
      ],
      "execution_count": 3,
      "outputs": [
        {
          "output_type": "execute_result",
          "data": {
            "text/plain": [
              "True"
            ]
          },
          "metadata": {
            "tags": []
          },
          "execution_count": 3
        }
      ]
    },
    {
      "metadata": {
        "id": "4mVEoD4xAwl5",
        "colab_type": "code",
        "colab": {
          "autoexec": {
            "startup": false,
            "wait_interval": 0
          },
          "resources": {
            "http://localhost:8080/nbextensions/google.colab/files.js": {
              "data": "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",
              "ok": true,
              "headers": [
                [
                  "content-type",
                  "application/javascript"
                ]
              ],
              "status": 200,
              "status_text": ""
            }
          },
          "base_uri": "https://localhost:8080/",
          "height": 69
        },
        "outputId": "17506a37-717a-4175-ba0d-c8b1062e8802",
        "executionInfo": {
          "status": "ok",
          "timestamp": 1528577367568,
          "user_tz": 420,
          "elapsed": 18304,
          "user": {
            "displayName": "Anh Quoc Dinh",
            "photoUrl": "https://lh3.googleusercontent.com/a/default-user=s128",
            "userId": "117379636649104079467"
          }
        }
      },
      "cell_type": "code",
      "source": [
        "from google.colab import files\n",
        "\n",
        "uploaded = files.upload() # this line will let you select path to upload file "
      ],
      "execution_count": 5,
      "outputs": [
        {
          "output_type": "display_data",
          "data": {
            "text/html": [
              "\n",
              "     <input type=\"file\" id=\"files-bc4872c0-ef4f-4b50-9d3d-45f36072f4a7\" name=\"files[]\" multiple disabled />\n",
              "     <output id=\"result-bc4872c0-ef4f-4b50-9d3d-45f36072f4a7\">\n",
              "      Upload widget is only available when the cell has been executed in the\n",
              "      current browser session. Please rerun this cell to enable.\n",
              "      </output>\n",
              "      <script src=\"/nbextensions/google.colab/files.js\"></script> "
            ],
            "text/plain": [
              "<IPython.core.display.HTML object>"
            ]
          },
          "metadata": {
            "tags": []
          }
        },
        {
          "output_type": "stream",
          "text": [
            "Saving smol_batch_val.zip to smol_batch_val.zip\n"
          ],
          "name": "stdout"
        }
      ]
    },
    {
      "metadata": {
        "id": "FYIS_tuBEztN",
        "colab_type": "code",
        "colab": {
          "autoexec": {
            "startup": false,
            "wait_interval": 0
          },
          "base_uri": "https://localhost:8080/",
          "height": 51
        },
        "outputId": "346b6cca-b8cb-4b05-a88f-9a99ab34ffa5",
        "executionInfo": {
          "status": "ok",
          "timestamp": 1528577414260,
          "user_tz": 420,
          "elapsed": 1242,
          "user": {
            "displayName": "Anh Quoc Dinh",
            "photoUrl": "https://lh3.googleusercontent.com/a/default-user=s128",
            "userId": "117379636649104079467"
          }
        }
      },
      "cell_type": "code",
      "source": [
        "!ls\n",
        "# check to see if the zip file get uploaded or not"
      ],
      "execution_count": 10,
      "outputs": [
        {
          "output_type": "stream",
          "text": [
            "datalab   smol_batch\t  smol_batch_val.zip  wellnt\r\n",
            "__MACOSX  smol_batch_val  smol_batch.zip      wellnt.zip\r\n"
          ],
          "name": "stdout"
        }
      ]
    },
    {
      "metadata": {
        "id": "6NeR08pYxjT6",
        "colab_type": "code",
        "colab": {
          "autoexec": {
            "startup": false,
            "wait_interval": 0
          }
        }
      },
      "cell_type": "code",
      "source": [
        "# !unzip smol_batch.zip # train data\n",
        "# !unzip wellnt.zip # test data\n",
        "# !unzip smol_batch_val.zip # val data"
      ],
      "execution_count": 0,
      "outputs": []
    },
    {
      "metadata": {
        "id": "wWZzxIOIyLpK",
        "colab_type": "code",
        "colab": {
          "autoexec": {
            "startup": false,
            "wait_interval": 0
          },
          "base_uri": "https://localhost:8080/",
          "height": 350
        },
        "outputId": "a8f95cee-aad0-4299-e099-b74af1bb9fce",
        "executionInfo": {
          "status": "ok",
          "timestamp": 1528577392539,
          "user_tz": 420,
          "elapsed": 585,
          "user": {
            "displayName": "Anh Quoc Dinh",
            "photoUrl": "https://lh3.googleusercontent.com/a/default-user=s128",
            "userId": "117379636649104079467"
          }
        }
      },
      "cell_type": "code",
      "source": [
        "# test to show the image\n",
        "plt.figure()\n",
        "image = cv2.imread('wellnt/038_1673_28.jpg')\n",
        "# openCV uses a different color scheme, change it back to RGB for plotting\n",
        "RGB_img = cv2.cvtColor(image, cv2.COLOR_BGR2RGB)\n",
        "plt.imshow(RGB_img)\n",
        "plt.show()\n",
        "\n"
      ],
      "execution_count": 8,
      "outputs": [
        {
          "output_type": "display_data",
          "data": {
            "image/png": "[encoded data removed]",
            "text/plain": [
              "<matplotlib.figure.Figure at 0x7f3afe4a5128>"
            ]
          },
          "metadata": {
            "tags": []
          }
        }
      ]
    },
    {
      "metadata": {
        "id": "mkk-VrHozj72",
        "colab_type": "code",
        "colab": {
          "autoexec": {
            "startup": false,
            "wait_interval": 0
          },
          "base_uri": "https://localhost:8080/",
          "height": 51
        },
        "outputId": "67def9b5-9935-4765-9def-e5fe595be2c4",
        "executionInfo": {
          "status": "ok",
          "timestamp": 1528577394949,
          "user_tz": 420,
          "elapsed": 245,
          "user": {
            "displayName": "Anh Quoc Dinh",
            "photoUrl": "https://lh3.googleusercontent.com/a/default-user=s128",
            "userId": "117379636649104079467"
          }
        }
      },
      "cell_type": "code",
      "source": [
        "# check the type and shape of the image\n",
        "print (type(image))\n",
        "image.shape\n",
        "\n",
        "# should be 170 x 170 x 3"
      ],
      "execution_count": 9,
      "outputs": [
        {
          "output_type": "stream",
          "text": [
            "<class 'numpy.ndarray'>\n"
          ],
          "name": "stdout"
        },
        {
          "output_type": "execute_result",
          "data": {
            "text/plain": [
              "(170, 170, 3)"
            ]
          },
          "metadata": {
            "tags": []
          },
          "execution_count": 9
        }
      ]
    },
    {
      "metadata": {
        "id": "UrzgqYQ7-tTn",
        "colab_type": "code",
        "colab": {
          "autoexec": {
            "startup": false,
            "wait_interval": 0
          }
        }
      },
      "cell_type": "code",
      "source": [
        "# class ChunkSampler(sampler.Sampler):\n",
        "#     \"\"\"Samples elements sequentially from some offset. \n",
        "#     Arguments:\n",
        "#         num_samples: # of desired datapoints\n",
        "#         start: offset where we should start selecting from\n",
        "#     \"\"\"\n",
        "#     def __init__(self, num_samples, start = 0):\n",
        "#         self.num_samples = num_samples\n",
        "#         self.start = start\n",
        "\n",
        "#     def __iter__(self):\n",
        "#         return iter(range(self.start, self.start + self.num_samples))\n",
        "\n",
        "#     def __len__(self):\n",
        "#         return self.num_samples\n",
        "\n",
        "# NUM_TRAIN = 2000\n",
        "# NUM_VAL = 100"
      ],
      "execution_count": 0,
      "outputs": []
    },
    {
      "metadata": {
        "id": "Hv9h3Sjz69Uk",
        "colab_type": "code",
        "colab": {
          "autoexec": {
            "startup": false,
            "wait_interval": 0
          }
        }
      },
      "cell_type": "code",
      "source": [
        "# converting the directories into torch.dataset\n",
        "# transform_test = T.Compose([\n",
        "#     T.Resize((170, 170)),\n",
        "#     T.ToTensor(),\n",
        "# ])\n",
        "\n",
        "# from torchvision.datasets import ImageFolder\n",
        "from torchvision.transforms import ToTensor\n",
        "# data = ImageFolder(root='main_dir', transform=ToTensor())\n",
        "\n",
        "\n",
        "hand_train = dset.ImageFolder(root='smol_batch', transform=ToTensor())\n",
        "\n",
        "loader_train = DataLoader(hand_train, shuffle=True)\n",
        "\n",
        "hand_val = dset.ImageFolder(root='smol_batch_val',  transform=ToTensor())\n",
        "\n",
        "loader_val = DataLoader(hand_val, shuffle=True)\n"
      ],
      "execution_count": 0,
      "outputs": []
    },
    {
      "metadata": {
        "id": "IPxVGcQ8_18C",
        "colab_type": "code",
        "colab": {
          "autoexec": {
            "startup": false,
            "wait_interval": 0
          },
          "base_uri": "https://localhost:8080/",
          "height": 34
        },
        "outputId": "b5d76a98-b1dc-4cfc-8b2f-c0e950d840ca",
        "executionInfo": {
          "status": "ok",
          "timestamp": 1528577513373,
          "user_tz": 420,
          "elapsed": 254,
          "user": {
            "displayName": "Anh Quoc Dinh",
            "photoUrl": "https://lh3.googleusercontent.com/a/default-user=s128",
            "userId": "117379636649104079467"
          }
        }
      },
      "cell_type": "code",
      "source": [
        "print (hand_val.classes) # print out classes in our data set, should print out \n",
        "#0 and 1, 0 for no hand and 1 for yes hand"
      ],
      "execution_count": 14,
      "outputs": [
        {
          "output_type": "stream",
          "text": [
            "['0', '1']\n"
          ],
          "name": "stdout"
        }
      ]
    },
    {
      "metadata": {
        "id": "ay3nsX74XXE-",
        "colab_type": "code",
        "colab": {
          "autoexec": {
            "startup": false,
            "wait_interval": 0
          },
          "base_uri": "https://localhost:8080/",
          "height": 51
        },
        "outputId": "abf686ba-b6bc-4149-afe3-48092e505655",
        "executionInfo": {
          "status": "ok",
          "timestamp": 1528578738891,
          "user_tz": 420,
          "elapsed": 31394,
          "user": {
            "displayName": "Anh Quoc Dinh",
            "photoUrl": "https://lh3.googleusercontent.com/a/default-user=s128",
            "userId": "117379636649104079467"
          }
        }
      },
      "cell_type": "code",
      "source": [
        "noHand = 0\n",
        "hand = 0\n",
        "for i in range(len(hand_train)):\n",
        "    x,y = hand_train[i]\n",
        "    if y == 1:\n",
        "      hand += 1\n",
        "    else:\n",
        "      noHand +=1\n",
        "print(\"Number of data point of class hand: \",hand)\n",
        "print(\"Number of data point of class no hand: \", noHand)\n",
        "# check if we have the right amount of data points in each class\n",
        "# should print 17,712 for hand and 11,731 for no hand"
      ],
      "execution_count": 35,
      "outputs": [
        {
          "output_type": "stream",
          "text": [
            "Number of data point of class hand:  17712\n",
            "Number of data point of class no hand:  11731\n"
          ],
          "name": "stdout"
        }
      ]
    },
    {
      "metadata": {
        "id": "n9OvMNJkDhIg",
        "colab_type": "code",
        "colab": {
          "autoexec": {
            "startup": false,
            "wait_interval": 0
          }
        }
      },
      "cell_type": "code",
      "source": [
        "# train method declaration\n",
        "def train(model, loss_fn, optimizer, num_epochs = 1):\n",
        "    for epoch in range(num_epochs):\n",
        "        print('Starting epoch %d / %d' % (epoch + 1, num_epochs))\n",
        "        model.train()\n",
        "        for t, (x, y) in enumerate(loader_train):\n",
        "            x_var = Variable(x.type(gpu_dtype))\n",
        "            y_var = Variable(y.type(gpu_dtype).long())\n",
        "\n",
        "            scores = model(x_var)\n",
        "            \n",
        "            loss = loss_fn(scores, y_var)\n",
        "            if (t + 1) % print_every == 0:\n",
        "                print('t = %d, loss = %.4f' % (t + 1, loss.data[0]))\n",
        "            optimizer.zero_grad()\n",
        "            loss.backward()\n",
        "            optimizer.step()\n",
        "\n",
        "# check accuracy method\n",
        "def check_accuracy(model, loader):\n",
        "    num_correct = 0\n",
        "    num_samples = 0\n",
        "    model.eval() # Put the model in test mode (the opposite of model.train(), essentially)\n",
        "    for x, y in loader:\n",
        "        x_var = Variable(x.type(gpu_dtype), volatile=True)\n",
        "\n",
        "        scores = model(x_var)\n",
        "#         print (scores)\n",
        "        _, preds = scores.data.cpu().max(1)\n",
        "        \n",
        "        num_correct += (preds == y).sum()\n",
        "        num_samples += preds.size(0)\n",
        "    acc = float(num_correct) / num_samples\n",
        "    \n",
        "    print('Got %d / %d correct (%.2f)' % (num_correct, num_samples, 100 * acc))\n",
        "    return 100 * acc\n",
        "\n",
        "\n",
        "# This is a little utility that we'll use to reset the model\n",
        "# if we want to re-initialize all our parameters\n",
        "def reset(m):\n",
        "    if hasattr(m, 'reset_parameters'):\n",
        "        m.reset_parameters()\n",
        "        \n",
        "        \n",
        "# define the flatten class\n",
        "class Flatten(nn.Module):\n",
        "    def forward(self, x):\n",
        "        N, C, H, W = x.size() # read in N, C, H, W\n",
        "        return x.view(N, -1)  # \"flatten\" the C * H * W values into a single vector per image"
      ],
      "execution_count": 0,
      "outputs": []
    },
    {
      "metadata": {
        "id": "MvI_lq2-mexy",
        "colab_type": "code",
        "colab": {
          "autoexec": {
            "startup": false,
            "wait_interval": 0
          },
          "base_uri": "https://localhost:8080/",
          "height": 34
        },
        "outputId": "96dd5ed4-5b4c-4fc2-839b-c3ef9227620b",
        "executionInfo": {
          "status": "ok",
          "timestamp": 1528577535196,
          "user_tz": 420,
          "elapsed": 1692,
          "user": {
            "displayName": "Anh Quoc Dinh",
            "photoUrl": "https://lh3.googleusercontent.com/a/default-user=s128",
            "userId": "117379636649104079467"
          }
        }
      },
      "cell_type": "code",
      "source": [
        "# control how often we print out the loss\n",
        "print_every = 100\n",
        "\n",
        "# select gpu data type\n",
        "gpu_dtype = torch.cuda.FloatTensor\n",
        "\n",
        "simple_model = nn.Sequential(\n",
        "                # N x 3 x 170 x 170\n",
        "                nn.Conv2d(3, 32, kernel_size=3, stride=1,padding =1),\n",
        "                nn.BatchNorm2d(32), \n",
        "    \n",
        "                nn.MaxPool2d(2, stride = 2), # N x 32 x 85 x 85\n",
        "    \n",
        "                # N x 32 x 85 x 85\n",
        "                nn.Conv2d(32, 64, kernel_size=3, stride=1,padding =1),\n",
        "                nn.BatchNorm2d(64), \n",
        "    \n",
        "                nn.MaxPool2d(2, stride = 2), # N x 64 x 42 x 42\n",
        "    \n",
        "    \n",
        "    \n",
        "                nn.Dropout2d(p=0.2),\n",
        "    \n",
        "    \n",
        "    \n",
        "                # N x 64 x 42 x 42\n",
        "                nn.Conv2d(64, 128, kernel_size=3, stride=1,padding =1),\n",
        "                nn.BatchNorm2d(128), \n",
        "    \n",
        "                nn.MaxPool2d(2, stride = 2), # N x 128 x 21 x 21\n",
        "    \n",
        "                # N x 128 x 21 x 21\n",
        "                nn.Conv2d(128, 256, kernel_size=3, stride=1,padding =1),\n",
        "                nn.BatchNorm2d(256), \n",
        "    \n",
        "                nn.MaxPool2d(2, stride = 2), # N x 256 x 10 x 10\n",
        "    \n",
        "    \n",
        "                Flatten(), # N x 25600\n",
        "                nn.Linear(25600, 4096),\n",
        "                nn.ReLU(inplace=True),\n",
        "                nn.Linear(4096, 2),\n",
        "                nn.Softmax(dim=1),\n",
        "              ) \n",
        "      \n",
        "print (\"Success\")"
      ],
      "execution_count": 18,
      "outputs": [
        {
          "output_type": "stream",
          "text": [
            "Success\n"
          ],
          "name": "stdout"
        }
      ]
    },
    {
      "metadata": {
        "id": "ZCPfIk9-Iibt",
        "colab_type": "code",
        "colab": {
          "autoexec": {
            "startup": false,
            "wait_interval": 0
          },
          "base_uri": "https://localhost:8080/",
          "height": 374
        },
        "outputId": "769093b0-5f82-4c43-e412-46eaced262da",
        "executionInfo": {
          "status": "ok",
          "timestamp": 1528580998848,
          "user_tz": 420,
          "elapsed": 276,
          "user": {
            "displayName": "Anh Quoc Dinh",
            "photoUrl": "https://lh3.googleusercontent.com/a/default-user=s128",
            "userId": "117379636649104079467"
          }
        }
      },
      "cell_type": "code",
      "source": [
        "# reset the parameters !!\n",
        "model_gpu.apply(reset)"
      ],
      "execution_count": 36,
      "outputs": [
        {
          "output_type": "execute_result",
          "data": {
            "text/plain": [
              "Sequential(\n",
              "  (0): Conv2d (3, 32, kernel_size=(3, 3), stride=(1, 1), padding=(1, 1))\n",
              "  (1): BatchNorm2d(32, eps=1e-05, momentum=0.1, affine=True)\n",
              "  (2): MaxPool2d(kernel_size=(2, 2), stride=(2, 2), dilation=(1, 1))\n",
              "  (3): Conv2d (32, 64, kernel_size=(3, 3), stride=(1, 1), padding=(1, 1))\n",
              "  (4): BatchNorm2d(64, eps=1e-05, momentum=0.1, affine=True)\n",
              "  (5): MaxPool2d(kernel_size=(2, 2), stride=(2, 2), dilation=(1, 1))\n",
              "  (6): Dropout2d(p=0.2)\n",
              "  (7): Conv2d (64, 128, kernel_size=(3, 3), stride=(1, 1), padding=(1, 1))\n",
              "  (8): BatchNorm2d(128, eps=1e-05, momentum=0.1, affine=True)\n",
              "  (9): MaxPool2d(kernel_size=(2, 2), stride=(2, 2), dilation=(1, 1))\n",
              "  (10): Conv2d (128, 256, kernel_size=(3, 3), stride=(1, 1), padding=(1, 1))\n",
              "  (11): BatchNorm2d(256, eps=1e-05, momentum=0.1, affine=True)\n",
              "  (12): MaxPool2d(kernel_size=(2, 2), stride=(2, 2), dilation=(1, 1))\n",
              "  (13): Flatten(\n",
              "  )\n",
              "  (14): Linear(in_features=25600, out_features=4096)\n",
              "  (15): ReLU(inplace)\n",
              "  (16): Linear(in_features=4096, out_features=2)\n",
              "  (17): Softmax()\n",
              ")"
            ]
          },
          "metadata": {
            "tags": []
          },
          "execution_count": 36
        }
      ]
    },
    {
      "metadata": {
        "id": "PFw2CObpHJa2",
        "colab_type": "code",
        "colab": {
          "autoexec": {
            "startup": false,
            "wait_interval": 0
          }
        }
      },
      "cell_type": "code",
      "source": [
        "# transform the model into gpu capable\n",
        "model_gpu = copy.deepcopy(simple_model).type(gpu_dtype)\n",
        "\n",
        "# declare loss function and optimizer\n",
        "loss_fn = nn.CrossEntropyLoss().type(gpu_dtype)\n",
        "\n",
        "# declare optimizer\n",
        "optimizer = optim.Adam(model_gpu.parameters(), lr=1e-5) # can change the learning rate here \n",
        "\n",
        "train(model_gpu, loss_fn, optimizer, num_epochs=1)\n",
        "\n",
        "acc = check_accuracy(model_gpu, loader_val)\n",
        "\n",
        "print (acc)"
      ],
      "execution_count": 0,
      "outputs": []
    },
    {
      "metadata": {
        "id": "Wc8O_YdgVf0w",
        "colab_type": "code",
        "colab": {
          "autoexec": {
            "startup": false,
            "wait_interval": 0
          },
          "base_uri": "https://localhost:8080/",
          "height": 34
        },
        "outputId": "dbe0c802-5774-4f5e-80a8-4d28c94c77a8",
        "executionInfo": {
          "status": "ok",
          "timestamp": 1528581252769,
          "user_tz": 420,
          "elapsed": 3609,
          "user": {
            "displayName": "Anh Quoc Dinh",
            "photoUrl": "https://lh3.googleusercontent.com/a/default-user=s128",
            "userId": "117379636649104079467"
          }
        }
      },
      "cell_type": "code",
      "source": [
        "acc = check_accuracy(model_gpu, loader_val)\n"
      ],
      "execution_count": 38,
      "outputs": [
        {
          "output_type": "stream",
          "text": [
            "Got 510 / 528 correct (96.59)\n"
          ],
          "name": "stdout"
        }
      ]
    },
    {
      "metadata": {
        "id": "qhS8m32pjEfI",
        "colab_type": "code",
        "colab": {
          "autoexec": {
            "startup": false,
            "wait_interval": 0
          }
        }
      },
      "cell_type": "code",
      "source": [
        ""
      ],
      "execution_count": 0,
      "outputs": []
    },
    {
      "metadata": {
        "id": "IPVPCTP0zvpO",
        "colab_type": "code",
        "colab": {
          "autoexec": {
            "startup": false,
            "wait_interval": 0
          },
          "base_uri": "https://localhost:8080/",
          "height": 418
        },
        "outputId": "af9250a4-a766-4e50-ec84-8d7578af62fc",
        "executionInfo": {
          "status": "ok",
          "timestamp": 1528581558663,
          "user_tz": 420,
          "elapsed": 686,
          "user": {
            "displayName": "Anh Quoc Dinh",
            "photoUrl": "https://lh3.googleusercontent.com/a/default-user=s128",
            "userId": "117379636649104079467"
          }
        }
      },
      "cell_type": "code",
      "source": [
        "# Manual testing!\n",
        "# read in an image and print out which class it predict (1 for patch with hands, 0 otherwise)\n",
        "\n",
        "image2 = cv2.imread('wellnt/066_1175_28.jpg')\n",
        "\n",
        "# show the image\n",
        "plt.figure()\n",
        "# openCV uses a different color scheme, change it back to RGB for plotting\n",
        "RGB_img = cv2.cvtColor(image2, cv2.COLOR_BGR2RGB)\n",
        "plt.imshow(RGB_img)\n",
        "plt.show()\n",
        "\n",
        "model_gpu.eval()\n",
        "a2 = image2\n",
        "test2 = torch.from_numpy(a2)  # convert the numpy array into torch tensor\n",
        "test2 = test2.unsqueeze(0) # add another dimension to the torch\n",
        "test2 = test2.permute(0, 3, 1, 2) # rearrange the axis to match the model\n",
        "x_var2 = Variable(test2.type(gpu_dtype)) # convert into a variable to feed into the model\n",
        "scores2 = model_gpu(x_var2) # get the score for this prediction\n",
        "_, preds = scores2.data.cpu().max(1) # get the predictions (should be either class 0 or class 1)\n",
        "print (\"Model predict: \", preds)"
      ],
      "execution_count": 44,
      "outputs": [
        {
          "output_type": "display_data",
          "data": {
            "image/png": "[encoded data removed]",
            "text/plain": [
              "<matplotlib.figure.Figure at 0x7f3a761e2cf8>"
            ]
          },
          "metadata": {
            "tags": []
          }
        },
        {
          "output_type": "stream",
          "text": [
            "Model predict:  \n",
            " 0\n",
            "[torch.LongTensor of size 1]\n",
            "\n"
          ],
          "name": "stdout"
        }
      ]
    },
    {
      "metadata": {
        "id": "RfLmzoiWixX7",
        "colab_type": "code",
        "colab": {
          "autoexec": {
            "startup": false,
            "wait_interval": 0
          }
        }
      },
      "cell_type": "code",
      "source": [
        ""
      ],
      "execution_count": 0,
      "outputs": []
    }
  ]
}